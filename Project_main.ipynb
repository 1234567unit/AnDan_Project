{
 "cells": [
  {
   "cell_type": "code",
   "execution_count": 1,
   "metadata": {},
   "outputs": [
    {
     "data": {
      "text/html": [
       "        <script type=\"text/javascript\">\n",
       "        window.PlotlyConfig = {MathJaxConfig: 'local'};\n",
       "        if (window.MathJax && window.MathJax.Hub && window.MathJax.Hub.Config) {window.MathJax.Hub.Config({SVG: {font: \"STIX-Web\"}});}\n",
       "        if (typeof require !== 'undefined') {\n",
       "        require.undef(\"plotly\");\n",
       "        requirejs.config({\n",
       "            paths: {\n",
       "                'plotly': ['https://cdn.plot.ly/plotly-2.30.0.min']\n",
       "            }\n",
       "        });\n",
       "        require(['plotly'], function(Plotly) {\n",
       "            window._Plotly = Plotly;\n",
       "        });\n",
       "        }\n",
       "        </script>\n",
       "        "
      ]
     },
     "metadata": {},
     "output_type": "display_data"
    },
    {
     "data": {
      "text/html": [
       "        <script type=\"text/javascript\">\n",
       "        window.PlotlyConfig = {MathJaxConfig: 'local'};\n",
       "        if (window.MathJax && window.MathJax.Hub && window.MathJax.Hub.Config) {window.MathJax.Hub.Config({SVG: {font: \"STIX-Web\"}});}\n",
       "        if (typeof require !== 'undefined') {\n",
       "        require.undef(\"plotly\");\n",
       "        requirejs.config({\n",
       "            paths: {\n",
       "                'plotly': ['https://cdn.plot.ly/plotly-2.30.0.min']\n",
       "            }\n",
       "        });\n",
       "        require(['plotly'], function(Plotly) {\n",
       "            window._Plotly = Plotly;\n",
       "        });\n",
       "        }\n",
       "        </script>\n",
       "        "
      ]
     },
     "metadata": {},
     "output_type": "display_data"
    }
   ],
   "source": [
    "from tqdm import tqdm\n",
    "from datetime import datetime\n",
    "from dateutil.relativedelta import relativedelta\n",
    "from selenium import webdriver\n",
    "from bs4 import BeautifulSoup\n",
    "import requests \n",
    "import numpy as np\n",
    "import pandas as pd\n",
    "import scipy.stats as st\n",
    "import matplotlib.pyplot as plt\n",
    "import seaborn as sns\n",
    "\n",
    "import plotly.express as px\n",
    "import cufflinks as cf\n",
    "import plotly.graph_objects as go \n",
    "import plotly as py\n",
    "%matplotlib inline\n",
    "\n",
    "from plotly.offline import download_plotlyjs, init_notebook_mode, plot, iplot\n",
    "init_notebook_mode(connected=True)\n",
    "cf.go_offline()"
   ]
  },
  {
   "cell_type": "markdown",
   "metadata": {},
   "source": [
    "# Функции"
   ]
  },
  {
   "cell_type": "markdown",
   "metadata": {},
   "source": [
    "Функция, которая в случае необходимости убирает лишние пробелы, а также меняет запятую на точку, чтобы можно было str превратить во float  для дальнейшей работы. "
   ]
  },
  {
   "cell_type": "code",
   "execution_count": 2,
   "metadata": {},
   "outputs": [],
   "source": [
    "def string_in_float(stroka: str):\n",
    "    stroka = stroka.replace(',', '.')\n",
    "    stroka = stroka.replace(' ', '')\n",
    "    stroka = float(stroka)\n",
    "\n",
    "    return stroka"
   ]
  },
  {
   "cell_type": "markdown",
   "metadata": {},
   "source": [
    "Функция для того, чтобы распарсить валютную пару доллара/рубль, так как там на каждую дату новая страница и новая URL'ка. Также привожу в соответствующий вид переменную d, чтобы сформировать корректную ссылку."
   ]
  },
  {
   "cell_type": "code",
   "execution_count": 3,
   "metadata": {},
   "outputs": [],
   "source": [
    "def parsing_valut(d: str):\n",
    "\n",
    "    d = str(d).split('-')\n",
    "    d = '.'.join(d[::-1])\n",
    "\n",
    "    url = 'https://cbr.ru/currency_base/daily/?UniDbQuery.Posted=True&UniDbQuery.To={}'.format(d)\n",
    "\n",
    "    response = requests.get(url)\n",
    "    tree = BeautifulSoup(response.content, 'html.parser')\n",
    "    cur_exch = tree.find_all('tr')\n",
    "\n",
    "    list_valut = []\n",
    "\n",
    "    for i in cur_exch:\n",
    "        i = i.get_text().strip().split('\\n')\n",
    "        if 'USD' in i:\n",
    "            list_valut.append({'Дата': d, 'Курс доллара к рублю': i[-1]})\n",
    "        continue\n",
    "    return list_valut"
   ]
  },
  {
   "cell_type": "markdown",
   "metadata": {},
   "source": [
    "Следующую функцию сделал для преобразования элементов полученных из парсинга ключевой ставки."
   ]
  },
  {
   "cell_type": "code",
   "execution_count": 4,
   "metadata": {},
   "outputs": [],
   "source": [
    "def transformation_bs4el(row: str):\n",
    "    \n",
    "    row = row.get_text().strip().split('\\n')\n",
    "\n",
    "    if len(row) == 3:\n",
    "        a = row[0].split('\\xa0') \n",
    "        if a[1] == 'мая':\n",
    "            a = ' '.join(a[:3]) # я без понятия, что за прикол у ЦБ, но почему то именно в мае у них появляется дополнительный разделитель 'xa0' между месяцем и годом, потому пришлось вписать еще один if\n",
    "            return [a, row[1]]\n",
    "        a = ' '.join(a[:2])\n",
    "        return [a, row[1]]\n",
    "            \n",
    "    return row"
   ]
  },
  {
   "cell_type": "markdown",
   "metadata": {},
   "source": [
    "Функция для преобразования даты из вида \"число название месяца (в родительном падеже) год\" в формат через 'число.месяц.год 'в численном представлении."
   ]
  },
  {
   "cell_type": "code",
   "execution_count": 5,
   "metadata": {},
   "outputs": [],
   "source": [
    "def new_date(nd):\n",
    "    months_dict = {'января': '01', 'февраля': '02', 'марта': '03', 'апреля': '04', 'мая': '05','июня': '06','июля': '07', 'августа': '08', 'сентября': '09', 'октября': '10', 'ноября': '11', 'декабря': '12'}\n",
    "    nd = nd.split()\n",
    "    nd[1] = months_dict[nd[1]]\n",
    "    nd = '.'.join(nd)\n",
    "    return nd"
   ]
  },
  {
   "cell_type": "markdown",
   "metadata": {},
   "source": [
    "Следующие функции создают массив, в котором будут содержаться даты."
   ]
  },
  {
   "cell_type": "code",
   "execution_count": 6,
   "metadata": {},
   "outputs": [],
   "source": [
    "def calendar_kvartal(start: datetime, end: datetime):\n",
    "    date_range = []\n",
    "\n",
    "    while start <= end:\n",
    "        date_range.append(start.date())\n",
    "        start += relativedelta(months=3) # запрос в GPT: 'Как к дате прибавлять именно месяцы, а не дни (При 'вытягивании ключа' использовал timedelta)?'\n",
    "    return date_range"
   ]
  },
  {
   "cell_type": "code",
   "execution_count": 7,
   "metadata": {},
   "outputs": [],
   "source": [
    "def calendar_po_dnyam(start: datetime, end: datetime):\n",
    "    date_range = []\n",
    "\n",
    "    while start <= end:\n",
    "        date_range.append(start.date())\n",
    "        start += relativedelta(days=1) \n",
    "    return date_range"
   ]
  },
  {
   "cell_type": "markdown",
   "metadata": {},
   "source": [
    "# Парсинг ключевой ставки и ставки рефинансирования"
   ]
  },
  {
   "cell_type": "markdown",
   "metadata": {},
   "source": [
    "\n",
    "Небольшая заметка по данным\n",
    "\n",
    "В период с 2013 по 2015 годы помимо КЛЮЧЕВОЙ ставки существовала также ставка РЕФИНАНСИРОВАНИЯ, которая появилась в РФ после распада СССР. Разница между ними в финансовом плане заключается только в сроках кредитования коммерческих банках. По ставке рефинансирования выдается годичный кредит, а по \"ключу\" - краткосрочный. Исходя из этого, я решил взять данные по ключевой ставке в период совместного существования двух этих ставок, так как среди банков наиболее популярной операцией являются - сделки РЕПО овернайт. Среди них нет большого количества желающих взять годичный кредит, зачастую, для них важно перенести позицию на следующий день (возможно, и не раз), но годичный кредит уже не дает такой маневрености.\n",
    "\n",
    "С 1-го января 2016 года ставка рефинансирования стала равняться ключевой ставке, потому считаю разумным использовать значение ставки рефинансирования в период с  сентября 1997 года по сентябрь 2013 года, раз в конечном счете сам ЦБ к этому пришёл. Также в дальнейшем будут использовать именно термин \"ключевой ставки\""
   ]
  },
  {
   "cell_type": "markdown",
   "metadata": {},
   "source": [
    "Достаем \"ключ\""
   ]
  },
  {
   "cell_type": "code",
   "execution_count": 8,
   "metadata": {},
   "outputs": [
    {
     "data": {
      "text/plain": [
       "<Response [200]>"
      ]
     },
     "execution_count": 8,
     "metadata": {},
     "output_type": "execute_result"
    }
   ],
   "source": [
    "url = 'https://www.cbr.ru/hd_base/keyrate/?UniDbQuery.Posted=True&UniDbQuery.From=17.09.2013&UniDbQuery.To=07.05.2024'\n",
    "response = requests.get(url)\n",
    "response"
   ]
  },
  {
   "cell_type": "code",
   "execution_count": 9,
   "metadata": {},
   "outputs": [],
   "source": [
    "tree = BeautifulSoup(response.content, 'html.parser')"
   ]
  },
  {
   "cell_type": "code",
   "execution_count": 10,
   "metadata": {},
   "outputs": [],
   "source": [
    "key_rate = tree.find_all('tr')"
   ]
  },
  {
   "cell_type": "markdown",
   "metadata": {},
   "source": [
    "Я вытянул все строки из таблицы, включая самую первую - название столбцов, именно поэтому я начинаю извлекать данные только со второго элемента списка."
   ]
  },
  {
   "cell_type": "code",
   "execution_count": 11,
   "metadata": {},
   "outputs": [],
   "source": [
    "list_key_rate = []\n",
    "\n",
    "for i in key_rate[1:]:\n",
    "    list_key_rate.append(transformation_bs4el(i))"
   ]
  },
  {
   "cell_type": "code",
   "execution_count": 12,
   "metadata": {},
   "outputs": [],
   "source": [
    "df_key_rate = pd.DataFrame(list_key_rate, columns=['Дата', 'Ключевая ставка, в %'])"
   ]
  },
  {
   "cell_type": "code",
   "execution_count": 13,
   "metadata": {},
   "outputs": [],
   "source": [
    "df_key_rate['Дата'] = pd.to_datetime(df_key_rate['Дата'], format='%d.%m.%Y')\n",
    "df_key_rate['Ключевая ставка, в %'] = df_key_rate['Ключевая ставка, в %'].apply(string_in_float)"
   ]
  },
  {
   "cell_type": "code",
   "execution_count": 14,
   "metadata": {},
   "outputs": [
    {
     "data": {
      "text/html": [
       "<div>\n",
       "<style scoped>\n",
       "    .dataframe tbody tr th:only-of-type {\n",
       "        vertical-align: middle;\n",
       "    }\n",
       "\n",
       "    .dataframe tbody tr th {\n",
       "        vertical-align: top;\n",
       "    }\n",
       "\n",
       "    .dataframe thead th {\n",
       "        text-align: right;\n",
       "    }\n",
       "</style>\n",
       "<table border=\"1\" class=\"dataframe\">\n",
       "  <thead>\n",
       "    <tr style=\"text-align: right;\">\n",
       "      <th></th>\n",
       "      <th>Дата</th>\n",
       "      <th>Ключевая ставка, в %</th>\n",
       "    </tr>\n",
       "  </thead>\n",
       "  <tbody>\n",
       "    <tr>\n",
       "      <th>0</th>\n",
       "      <td>2024-05-07</td>\n",
       "      <td>16.0</td>\n",
       "    </tr>\n",
       "    <tr>\n",
       "      <th>1</th>\n",
       "      <td>2024-05-06</td>\n",
       "      <td>16.0</td>\n",
       "    </tr>\n",
       "    <tr>\n",
       "      <th>2</th>\n",
       "      <td>2024-05-03</td>\n",
       "      <td>16.0</td>\n",
       "    </tr>\n",
       "    <tr>\n",
       "      <th>3</th>\n",
       "      <td>2024-05-02</td>\n",
       "      <td>16.0</td>\n",
       "    </tr>\n",
       "    <tr>\n",
       "      <th>4</th>\n",
       "      <td>2024-04-30</td>\n",
       "      <td>16.0</td>\n",
       "    </tr>\n",
       "  </tbody>\n",
       "</table>\n",
       "</div>"
      ],
      "text/plain": [
       "        Дата  Ключевая ставка, в %\n",
       "0 2024-05-07                  16.0\n",
       "1 2024-05-06                  16.0\n",
       "2 2024-05-03                  16.0\n",
       "3 2024-05-02                  16.0\n",
       "4 2024-04-30                  16.0"
      ]
     },
     "execution_count": 14,
     "metadata": {},
     "output_type": "execute_result"
    }
   ],
   "source": [
    "df_key_rate.head()"
   ]
  },
  {
   "cell_type": "markdown",
   "metadata": {},
   "source": [
    "# Ставка рефинансирования"
   ]
  },
  {
   "cell_type": "code",
   "execution_count": 15,
   "metadata": {},
   "outputs": [
    {
     "data": {
      "text/plain": [
       "<Response [200]>"
      ]
     },
     "execution_count": 15,
     "metadata": {},
     "output_type": "execute_result"
    }
   ],
   "source": [
    "url = 'https://cbr.ru/statistics/idkp_br/refinancing_rates1/'\n",
    "response = requests.get(url)\n",
    "response"
   ]
  },
  {
   "cell_type": "code",
   "execution_count": 16,
   "metadata": {},
   "outputs": [],
   "source": [
    "tree = BeautifulSoup(response.content, 'html.parser')"
   ]
  },
  {
   "cell_type": "code",
   "execution_count": 17,
   "metadata": {},
   "outputs": [],
   "source": [
    "refin_rate = tree.find_all('tr')"
   ]
  },
  {
   "cell_type": "markdown",
   "metadata": {},
   "source": [
    "Здесь начинаю вытягивать с 3-его элемента, т.к. во 2-ой строке пишется о \"привязке\" ставки рефинансирования к \"ключу\"."
   ]
  },
  {
   "cell_type": "code",
   "execution_count": 18,
   "metadata": {},
   "outputs": [],
   "source": [
    "list_refin_rate = []\n",
    "\n",
    "for i in refin_rate[2:]:\n",
    "    list_refin_rate.append(transformation_bs4el(i))\n"
   ]
  },
  {
   "cell_type": "code",
   "execution_count": 19,
   "metadata": {},
   "outputs": [],
   "source": [
    "df_refin_rate = pd.DataFrame(list_refin_rate, columns=['Дата', 'Ключевая ставка, в %'])"
   ]
  },
  {
   "cell_type": "code",
   "execution_count": 20,
   "metadata": {},
   "outputs": [],
   "source": [
    "df_refin_rate['Дата'] = df_refin_rate['Дата'].apply(new_date)\n",
    "df_refin_rate['Дата'] = pd.to_datetime(df_refin_rate['Дата'], format='%d.%m.%Y')\n",
    "df_refin_rate['Ключевая ставка, в %'] = df_refin_rate['Ключевая ставка, в %'].apply(string_in_float)"
   ]
  },
  {
   "cell_type": "code",
   "execution_count": 21,
   "metadata": {},
   "outputs": [
    {
     "data": {
      "text/html": [
       "<div>\n",
       "<style scoped>\n",
       "    .dataframe tbody tr th:only-of-type {\n",
       "        vertical-align: middle;\n",
       "    }\n",
       "\n",
       "    .dataframe tbody tr th {\n",
       "        vertical-align: top;\n",
       "    }\n",
       "\n",
       "    .dataframe thead th {\n",
       "        text-align: right;\n",
       "    }\n",
       "</style>\n",
       "<table border=\"1\" class=\"dataframe\">\n",
       "  <thead>\n",
       "    <tr style=\"text-align: right;\">\n",
       "      <th></th>\n",
       "      <th>Дата</th>\n",
       "      <th>Ключевая ставка, в %</th>\n",
       "    </tr>\n",
       "  </thead>\n",
       "  <tbody>\n",
       "    <tr>\n",
       "      <th>0</th>\n",
       "      <td>2012-09-14</td>\n",
       "      <td>8.25</td>\n",
       "    </tr>\n",
       "    <tr>\n",
       "      <th>1</th>\n",
       "      <td>2011-12-26</td>\n",
       "      <td>8.00</td>\n",
       "    </tr>\n",
       "    <tr>\n",
       "      <th>2</th>\n",
       "      <td>2011-05-03</td>\n",
       "      <td>8.25</td>\n",
       "    </tr>\n",
       "    <tr>\n",
       "      <th>3</th>\n",
       "      <td>2011-02-28</td>\n",
       "      <td>8.00</td>\n",
       "    </tr>\n",
       "    <tr>\n",
       "      <th>4</th>\n",
       "      <td>2010-06-01</td>\n",
       "      <td>7.75</td>\n",
       "    </tr>\n",
       "  </tbody>\n",
       "</table>\n",
       "</div>"
      ],
      "text/plain": [
       "        Дата  Ключевая ставка, в %\n",
       "0 2012-09-14                  8.25\n",
       "1 2011-12-26                  8.00\n",
       "2 2011-05-03                  8.25\n",
       "3 2011-02-28                  8.00\n",
       "4 2010-06-01                  7.75"
      ]
     },
     "execution_count": 21,
     "metadata": {},
     "output_type": "execute_result"
    }
   ],
   "source": [
    "df_refin_rate.head()"
   ]
  },
  {
   "cell_type": "code",
   "execution_count": 22,
   "metadata": {},
   "outputs": [],
   "source": [
    "df_key_rate = pd.concat([df_key_rate, df_refin_rate], ignore_index=True)"
   ]
  },
  {
   "cell_type": "code",
   "execution_count": 23,
   "metadata": {},
   "outputs": [
    {
     "data": {
      "text/html": [
       "<div>\n",
       "<style scoped>\n",
       "    .dataframe tbody tr th:only-of-type {\n",
       "        vertical-align: middle;\n",
       "    }\n",
       "\n",
       "    .dataframe tbody tr th {\n",
       "        vertical-align: top;\n",
       "    }\n",
       "\n",
       "    .dataframe thead th {\n",
       "        text-align: right;\n",
       "    }\n",
       "</style>\n",
       "<table border=\"1\" class=\"dataframe\">\n",
       "  <thead>\n",
       "    <tr style=\"text-align: right;\">\n",
       "      <th></th>\n",
       "      <th>Дата</th>\n",
       "      <th>Ключевая ставка, в %</th>\n",
       "    </tr>\n",
       "  </thead>\n",
       "  <tbody>\n",
       "    <tr>\n",
       "      <th>0</th>\n",
       "      <td>2024-05-07</td>\n",
       "      <td>16.0</td>\n",
       "    </tr>\n",
       "    <tr>\n",
       "      <th>1</th>\n",
       "      <td>2024-05-06</td>\n",
       "      <td>16.0</td>\n",
       "    </tr>\n",
       "    <tr>\n",
       "      <th>2</th>\n",
       "      <td>2024-05-03</td>\n",
       "      <td>16.0</td>\n",
       "    </tr>\n",
       "    <tr>\n",
       "      <th>3</th>\n",
       "      <td>2024-05-02</td>\n",
       "      <td>16.0</td>\n",
       "    </tr>\n",
       "    <tr>\n",
       "      <th>4</th>\n",
       "      <td>2024-04-30</td>\n",
       "      <td>16.0</td>\n",
       "    </tr>\n",
       "    <tr>\n",
       "      <th>...</th>\n",
       "      <td>...</td>\n",
       "      <td>...</td>\n",
       "    </tr>\n",
       "    <tr>\n",
       "      <th>2737</th>\n",
       "      <td>1993-06-02</td>\n",
       "      <td>110.0</td>\n",
       "    </tr>\n",
       "    <tr>\n",
       "      <th>2738</th>\n",
       "      <td>1993-03-30</td>\n",
       "      <td>100.0</td>\n",
       "    </tr>\n",
       "    <tr>\n",
       "      <th>2739</th>\n",
       "      <td>1992-05-23</td>\n",
       "      <td>80.0</td>\n",
       "    </tr>\n",
       "    <tr>\n",
       "      <th>2740</th>\n",
       "      <td>1992-04-10</td>\n",
       "      <td>50.0</td>\n",
       "    </tr>\n",
       "    <tr>\n",
       "      <th>2741</th>\n",
       "      <td>1992-01-01</td>\n",
       "      <td>20.0</td>\n",
       "    </tr>\n",
       "  </tbody>\n",
       "</table>\n",
       "<p>2742 rows × 2 columns</p>\n",
       "</div>"
      ],
      "text/plain": [
       "           Дата  Ключевая ставка, в %\n",
       "0    2024-05-07                  16.0\n",
       "1    2024-05-06                  16.0\n",
       "2    2024-05-03                  16.0\n",
       "3    2024-05-02                  16.0\n",
       "4    2024-04-30                  16.0\n",
       "...         ...                   ...\n",
       "2737 1993-06-02                 110.0\n",
       "2738 1993-03-30                 100.0\n",
       "2739 1992-05-23                  80.0\n",
       "2740 1992-04-10                  50.0\n",
       "2741 1992-01-01                  20.0\n",
       "\n",
       "[2742 rows x 2 columns]"
      ]
     },
     "execution_count": 23,
     "metadata": {},
     "output_type": "execute_result"
    }
   ],
   "source": [
    "df_key_rate"
   ]
  },
  {
   "cell_type": "markdown",
   "metadata": {},
   "source": [
    "Конец"
   ]
  },
  {
   "cell_type": "code",
   "execution_count": 24,
   "metadata": {},
   "outputs": [
    {
     "name": "stdout",
     "output_type": "stream",
     "text": [
      "<class 'pandas.core.frame.DataFrame'>\n",
      "RangeIndex: 2742 entries, 0 to 2741\n",
      "Data columns (total 2 columns):\n",
      " #   Column                Non-Null Count  Dtype         \n",
      "---  ------                --------------  -----         \n",
      " 0   Дата                  2742 non-null   datetime64[ns]\n",
      " 1   Ключевая ставка, в %  2742 non-null   float64       \n",
      "dtypes: datetime64[ns](1), float64(1)\n",
      "memory usage: 43.0 KB\n"
     ]
    }
   ],
   "source": [
    "df_key_rate.info()"
   ]
  },
  {
   "cell_type": "markdown",
   "metadata": {},
   "source": [
    "# Начало парсинга курса доллара отношению к рублю"
   ]
  },
  {
   "cell_type": "markdown",
   "metadata": {},
   "source": [
    "Создаю массив состоящий из дат, для того чтобы в последующем подставлять их в ссылку для перехода на страницу, где указан курс доллара на данную дату."
   ]
  },
  {
   "cell_type": "code",
   "execution_count": 25,
   "metadata": {},
   "outputs": [],
   "source": [
    "start = datetime(1997, 9, 22)\n",
    "end = datetime(2023, 12, 31)\n",
    "date_range = []\n",
    "\n",
    "while start <= end:\n",
    "    date_range.append(start.date())\n",
    "    start += relativedelta(days=1)"
   ]
  },
  {
   "cell_type": "markdown",
   "metadata": {},
   "source": [
    "Собираю курс доллара с этой даты, т.к. именно в этот день был начат расчет индекса МосБиржи."
   ]
  },
  {
   "cell_type": "markdown",
   "metadata": {},
   "source": [
    "Запрос в GPT"
   ]
  },
  {
   "cell_type": "code",
   "execution_count": 26,
   "metadata": {},
   "outputs": [
    {
     "name": "stderr",
     "output_type": "stream",
     "text": [
      "100%|██████████| 9597/9597 [05:45<00:00, 27.75it/s]\n"
     ]
    }
   ],
   "source": [
    "from concurrent.futures import ThreadPoolExecutor\n",
    "\n",
    "list_valut = []\n",
    "\n",
    "with ThreadPoolExecutor() as executor:\n",
    "    futures = [executor.submit(parsing_valut, d) for d in date_range]\n",
    "\n",
    "    for future in tqdm(futures, total=len(date_range)):\n",
    "        list_valut.extend(future.result())"
   ]
  },
  {
   "cell_type": "code",
   "execution_count": 27,
   "metadata": {},
   "outputs": [],
   "source": [
    "df_valut = pd.DataFrame(list_valut)"
   ]
  },
  {
   "cell_type": "code",
   "execution_count": 28,
   "metadata": {},
   "outputs": [],
   "source": [
    "df_valut['Дата'] = pd.to_datetime(df_valut['Дата'], format='%d.%m.%Y')\n",
    "df_valut['Курс доллара к рублю'] = df_valut['Курс доллара к рублю'].apply(string_in_float)"
   ]
  },
  {
   "cell_type": "code",
   "execution_count": 29,
   "metadata": {},
   "outputs": [
    {
     "data": {
      "text/html": [
       "<div>\n",
       "<style scoped>\n",
       "    .dataframe tbody tr th:only-of-type {\n",
       "        vertical-align: middle;\n",
       "    }\n",
       "\n",
       "    .dataframe tbody tr th {\n",
       "        vertical-align: top;\n",
       "    }\n",
       "\n",
       "    .dataframe thead th {\n",
       "        text-align: right;\n",
       "    }\n",
       "</style>\n",
       "<table border=\"1\" class=\"dataframe\">\n",
       "  <thead>\n",
       "    <tr style=\"text-align: right;\">\n",
       "      <th></th>\n",
       "      <th>Дата</th>\n",
       "      <th>Курс доллара к рублю</th>\n",
       "    </tr>\n",
       "  </thead>\n",
       "  <tbody>\n",
       "    <tr>\n",
       "      <th>0</th>\n",
       "      <td>1997-09-22</td>\n",
       "      <td>5853.5</td>\n",
       "    </tr>\n",
       "    <tr>\n",
       "      <th>1</th>\n",
       "      <td>1997-09-23</td>\n",
       "      <td>5855.0</td>\n",
       "    </tr>\n",
       "    <tr>\n",
       "      <th>2</th>\n",
       "      <td>1997-09-24</td>\n",
       "      <td>5856.5</td>\n",
       "    </tr>\n",
       "    <tr>\n",
       "      <th>3</th>\n",
       "      <td>1997-09-25</td>\n",
       "      <td>5858.5</td>\n",
       "    </tr>\n",
       "    <tr>\n",
       "      <th>4</th>\n",
       "      <td>1997-09-26</td>\n",
       "      <td>5860.0</td>\n",
       "    </tr>\n",
       "  </tbody>\n",
       "</table>\n",
       "</div>"
      ],
      "text/plain": [
       "        Дата  Курс доллара к рублю\n",
       "0 1997-09-22                5853.5\n",
       "1 1997-09-23                5855.0\n",
       "2 1997-09-24                5856.5\n",
       "3 1997-09-25                5858.5\n",
       "4 1997-09-26                5860.0"
      ]
     },
     "execution_count": 29,
     "metadata": {},
     "output_type": "execute_result"
    }
   ],
   "source": [
    "df_valut.head()"
   ]
  },
  {
   "cell_type": "markdown",
   "metadata": {},
   "source": [
    "Конец"
   ]
  },
  {
   "cell_type": "markdown",
   "metadata": {},
   "source": [
    "# Подгрузка данных из файлов"
   ]
  },
  {
   "cell_type": "markdown",
   "metadata": {},
   "source": [
    "# IMOEX"
   ]
  },
  {
   "cell_type": "code",
   "execution_count": 30,
   "metadata": {},
   "outputs": [],
   "source": [
    "df_imoex = pd.read_csv('C:/Users/seymu/Desktop/Проект АнДан/IMOEX.csv', encoding='cp1251', delimiter=';', skiprows=2)"
   ]
  },
  {
   "cell_type": "code",
   "execution_count": 31,
   "metadata": {},
   "outputs": [],
   "source": [
    "df_imoex = df_imoex[['TRADEDATE', 'CLOSE']]\n",
    "df_imoex.columns = ['Дата', 'Цена закрытия']"
   ]
  },
  {
   "cell_type": "code",
   "execution_count": 32,
   "metadata": {},
   "outputs": [],
   "source": [
    "df_imoex['Дата'] = pd.to_datetime(df_imoex['Дата'], format='%d.%m.%Y')\n",
    "df_imoex['Цена закрытия'] = df_imoex['Цена закрытия'].apply(string_in_float) "
   ]
  },
  {
   "cell_type": "code",
   "execution_count": 33,
   "metadata": {},
   "outputs": [
    {
     "data": {
      "text/html": [
       "<div>\n",
       "<style scoped>\n",
       "    .dataframe tbody tr th:only-of-type {\n",
       "        vertical-align: middle;\n",
       "    }\n",
       "\n",
       "    .dataframe tbody tr th {\n",
       "        vertical-align: top;\n",
       "    }\n",
       "\n",
       "    .dataframe thead th {\n",
       "        text-align: right;\n",
       "    }\n",
       "</style>\n",
       "<table border=\"1\" class=\"dataframe\">\n",
       "  <thead>\n",
       "    <tr style=\"text-align: right;\">\n",
       "      <th></th>\n",
       "      <th>Дата</th>\n",
       "      <th>Цена закрытия</th>\n",
       "    </tr>\n",
       "  </thead>\n",
       "  <tbody>\n",
       "    <tr>\n",
       "      <th>0</th>\n",
       "      <td>1997-09-22</td>\n",
       "      <td>100.00</td>\n",
       "    </tr>\n",
       "    <tr>\n",
       "      <th>1</th>\n",
       "      <td>1997-09-23</td>\n",
       "      <td>100.67</td>\n",
       "    </tr>\n",
       "    <tr>\n",
       "      <th>2</th>\n",
       "      <td>1997-09-24</td>\n",
       "      <td>99.94</td>\n",
       "    </tr>\n",
       "    <tr>\n",
       "      <th>3</th>\n",
       "      <td>1997-09-25</td>\n",
       "      <td>99.46</td>\n",
       "    </tr>\n",
       "    <tr>\n",
       "      <th>4</th>\n",
       "      <td>1997-09-26</td>\n",
       "      <td>98.87</td>\n",
       "    </tr>\n",
       "  </tbody>\n",
       "</table>\n",
       "</div>"
      ],
      "text/plain": [
       "        Дата  Цена закрытия\n",
       "0 1997-09-22         100.00\n",
       "1 1997-09-23         100.67\n",
       "2 1997-09-24          99.94\n",
       "3 1997-09-25          99.46\n",
       "4 1997-09-26          98.87"
      ]
     },
     "execution_count": 33,
     "metadata": {},
     "output_type": "execute_result"
    }
   ],
   "source": [
    "df_imoex.head()"
   ]
  },
  {
   "cell_type": "markdown",
   "metadata": {},
   "source": [
    "# Brent"
   ]
  },
  {
   "cell_type": "markdown",
   "metadata": {},
   "source": [
    "Так как Россия по большей части живет за счет экспорта, то считаю необходимым учитывать стоимость нефти в качестве важного макроэкономического показателя, от которого зависит состояние экономики РФ. В таблице приведены цены на нефть марки \"Brent\",  Россия экспортирует нефть марки \"Urals\", и в отношении нее существует устойчивый дисконт к нефти марки \"Brent\". Поэтому \n",
    "P.S. да, в нынешнее время существует \"потолок цен\" на нефть из России, но в конечном счете многие журналисткие расследования крупных, релевантных источкников показывают, что \"потолок\" не работает."
   ]
  },
  {
   "cell_type": "code",
   "execution_count": 34,
   "metadata": {},
   "outputs": [],
   "source": [
    "df_brent = pd.read_excel('C:/Users/seymu/Desktop/Проект АнДан/Brent.xlsx')"
   ]
  },
  {
   "cell_type": "code",
   "execution_count": 35,
   "metadata": {},
   "outputs": [],
   "source": [
    "df_brent.columns = ['Дата', 'Цена, в $/барр']"
   ]
  },
  {
   "cell_type": "code",
   "execution_count": 36,
   "metadata": {},
   "outputs": [
    {
     "data": {
      "text/html": [
       "<div>\n",
       "<style scoped>\n",
       "    .dataframe tbody tr th:only-of-type {\n",
       "        vertical-align: middle;\n",
       "    }\n",
       "\n",
       "    .dataframe tbody tr th {\n",
       "        vertical-align: top;\n",
       "    }\n",
       "\n",
       "    .dataframe thead th {\n",
       "        text-align: right;\n",
       "    }\n",
       "</style>\n",
       "<table border=\"1\" class=\"dataframe\">\n",
       "  <thead>\n",
       "    <tr style=\"text-align: right;\">\n",
       "      <th></th>\n",
       "      <th>Дата</th>\n",
       "      <th>Цена, в $/барр</th>\n",
       "    </tr>\n",
       "  </thead>\n",
       "  <tbody>\n",
       "    <tr>\n",
       "      <th>0</th>\n",
       "      <td>2024-05-03</td>\n",
       "      <td>82.9600</td>\n",
       "    </tr>\n",
       "    <tr>\n",
       "      <th>1</th>\n",
       "      <td>2024-05-02</td>\n",
       "      <td>83.6700</td>\n",
       "    </tr>\n",
       "    <tr>\n",
       "      <th>2</th>\n",
       "      <td>2024-05-01</td>\n",
       "      <td>83.5627</td>\n",
       "    </tr>\n",
       "    <tr>\n",
       "      <th>3</th>\n",
       "      <td>2024-04-30</td>\n",
       "      <td>85.9564</td>\n",
       "    </tr>\n",
       "    <tr>\n",
       "      <th>4</th>\n",
       "      <td>2024-04-29</td>\n",
       "      <td>88.3471</td>\n",
       "    </tr>\n",
       "  </tbody>\n",
       "</table>\n",
       "</div>"
      ],
      "text/plain": [
       "        Дата  Цена, в $/барр\n",
       "0 2024-05-03         82.9600\n",
       "1 2024-05-02         83.6700\n",
       "2 2024-05-01         83.5627\n",
       "3 2024-04-30         85.9564\n",
       "4 2024-04-29         88.3471"
      ]
     },
     "execution_count": 36,
     "metadata": {},
     "output_type": "execute_result"
    }
   ],
   "source": [
    "df_brent.head()"
   ]
  },
  {
   "cell_type": "markdown",
   "metadata": {},
   "source": [
    "# ВВП"
   ]
  },
  {
   "cell_type": "markdown",
   "metadata": {},
   "source": [
    "ВВП есть в двух таблицах с 1995 по 2011 гг. и с 2011 по 2023 гг."
   ]
  },
  {
   "cell_type": "code",
   "execution_count": 37,
   "metadata": {},
   "outputs": [],
   "source": [
    "df_gdp_11 = pd.read_excel('C:/Users/seymu/Desktop/Проект АнДан/GDP.xlsx', sheet_name='1', skiprows=2, nrows=3, usecols=[i for i in range(10, 64)])\n",
    "df_gdp_23 = pd.read_excel('C:/Users/seymu/Desktop/Проект АнДан/GDP.xlsx', sheet_name='2', skiprows=2, nrows=3, usecols=[i for i in range(52)])"
   ]
  },
  {
   "cell_type": "code",
   "execution_count": 38,
   "metadata": {},
   "outputs": [],
   "source": [
    "df_gdp_11.columns = range(df_gdp_11.shape[1])\n",
    "df_gdp_11 = df_gdp_11.T\n",
    "df_gdp_11.columns = ['Дата', 'ВВП, в млрд. ₽']"
   ]
  },
  {
   "cell_type": "code",
   "execution_count": 39,
   "metadata": {},
   "outputs": [],
   "source": [
    "df_gdp_23.columns = range(df_gdp_23.shape[1])\n",
    "df_gdp_23 = df_gdp_23.T\n",
    "df_gdp_23.columns = ['Дата', 'ВВП, в млрд. ₽']"
   ]
  },
  {
   "cell_type": "markdown",
   "metadata": {},
   "source": [
    "# Преобразовать в функцию"
   ]
  },
  {
   "cell_type": "code",
   "execution_count": 40,
   "metadata": {},
   "outputs": [],
   "source": [
    "date_range_11 = calendar_kvartal(datetime(1997, 9, 30), datetime(2010, 12, 31))\n",
    "date_range_23 = calendar_kvartal(datetime(2011, 3, 31), datetime(2023, 12, 31))"
   ]
  },
  {
   "cell_type": "markdown",
   "metadata": {},
   "source": [
    "# ЕЩЕ надо умножить на 1000 где то в районе 97ого года"
   ]
  },
  {
   "cell_type": "code",
   "execution_count": 41,
   "metadata": {},
   "outputs": [
    {
     "data": {
      "text/html": [
       "<div>\n",
       "<style scoped>\n",
       "    .dataframe tbody tr th:only-of-type {\n",
       "        vertical-align: middle;\n",
       "    }\n",
       "\n",
       "    .dataframe tbody tr th {\n",
       "        vertical-align: top;\n",
       "    }\n",
       "\n",
       "    .dataframe thead th {\n",
       "        text-align: right;\n",
       "    }\n",
       "</style>\n",
       "<table border=\"1\" class=\"dataframe\">\n",
       "  <thead>\n",
       "    <tr style=\"text-align: right;\">\n",
       "      <th></th>\n",
       "      <th>Дата</th>\n",
       "      <th>ВВП, в млрд. ₽</th>\n",
       "    </tr>\n",
       "  </thead>\n",
       "  <tbody>\n",
       "    <tr>\n",
       "      <th>49</th>\n",
       "      <td>2009-12-30</td>\n",
       "      <td>10816.423016</td>\n",
       "    </tr>\n",
       "    <tr>\n",
       "      <th>50</th>\n",
       "      <td>2010-03-30</td>\n",
       "      <td>9995.758259</td>\n",
       "    </tr>\n",
       "    <tr>\n",
       "      <th>51</th>\n",
       "      <td>2010-06-30</td>\n",
       "      <td>10977.035261</td>\n",
       "    </tr>\n",
       "    <tr>\n",
       "      <th>52</th>\n",
       "      <td>2010-09-30</td>\n",
       "      <td>12086.463959</td>\n",
       "    </tr>\n",
       "    <tr>\n",
       "      <th>53</th>\n",
       "      <td>2010-12-30</td>\n",
       "      <td>13249.283711</td>\n",
       "    </tr>\n",
       "  </tbody>\n",
       "</table>\n",
       "</div>"
      ],
      "text/plain": [
       "          Дата ВВП, в млрд. ₽\n",
       "49  2009-12-30   10816.423016\n",
       "50  2010-03-30    9995.758259\n",
       "51  2010-06-30   10977.035261\n",
       "52  2010-09-30   12086.463959\n",
       "53  2010-12-30   13249.283711"
      ]
     },
     "execution_count": 41,
     "metadata": {},
     "output_type": "execute_result"
    }
   ],
   "source": [
    "df_gdp_11['Дата'] = date_range_11\n",
    "df_gdp_11.tail()"
   ]
  },
  {
   "cell_type": "code",
   "execution_count": 42,
   "metadata": {},
   "outputs": [
    {
     "data": {
      "text/html": [
       "<div>\n",
       "<style scoped>\n",
       "    .dataframe tbody tr th:only-of-type {\n",
       "        vertical-align: middle;\n",
       "    }\n",
       "\n",
       "    .dataframe tbody tr th {\n",
       "        vertical-align: top;\n",
       "    }\n",
       "\n",
       "    .dataframe thead th {\n",
       "        text-align: right;\n",
       "    }\n",
       "</style>\n",
       "<table border=\"1\" class=\"dataframe\">\n",
       "  <thead>\n",
       "    <tr style=\"text-align: right;\">\n",
       "      <th></th>\n",
       "      <th>Дата</th>\n",
       "      <th>ВВП, в млрд. ₽</th>\n",
       "    </tr>\n",
       "  </thead>\n",
       "  <tbody>\n",
       "    <tr>\n",
       "      <th>47</th>\n",
       "      <td>2022-12-30</td>\n",
       "      <td>42532.309641</td>\n",
       "    </tr>\n",
       "    <tr>\n",
       "      <th>48</th>\n",
       "      <td>2023-03-30</td>\n",
       "      <td>36176.000693</td>\n",
       "    </tr>\n",
       "    <tr>\n",
       "      <th>49</th>\n",
       "      <td>2023-06-30</td>\n",
       "      <td>40070.181189</td>\n",
       "    </tr>\n",
       "    <tr>\n",
       "      <th>50</th>\n",
       "      <td>2023-09-30</td>\n",
       "      <td>45087.686145</td>\n",
       "    </tr>\n",
       "    <tr>\n",
       "      <th>51</th>\n",
       "      <td>2023-12-30</td>\n",
       "      <td>50814.443887</td>\n",
       "    </tr>\n",
       "  </tbody>\n",
       "</table>\n",
       "</div>"
      ],
      "text/plain": [
       "          Дата ВВП, в млрд. ₽\n",
       "47  2022-12-30   42532.309641\n",
       "48  2023-03-30   36176.000693\n",
       "49  2023-06-30   40070.181189\n",
       "50  2023-09-30   45087.686145\n",
       "51  2023-12-30   50814.443887"
      ]
     },
     "execution_count": 42,
     "metadata": {},
     "output_type": "execute_result"
    }
   ],
   "source": [
    "df_gdp_23['Дата'] = date_range_23\n",
    "df_gdp_23.tail()"
   ]
  },
  {
   "cell_type": "code",
   "execution_count": 43,
   "metadata": {},
   "outputs": [],
   "source": [
    "df_gdp = pd.concat([df_gdp_11, df_gdp_23], ignore_index=True)"
   ]
  },
  {
   "cell_type": "code",
   "execution_count": 44,
   "metadata": {},
   "outputs": [],
   "source": [
    "df_gdp['Дата'] = pd.to_datetime(df_gdp['Дата'])\n",
    "df_gdp['ВВП, в млрд. ₽'] = df_gdp['ВВП, в млрд. ₽'].astype(float)"
   ]
  },
  {
   "cell_type": "code",
   "execution_count": 45,
   "metadata": {},
   "outputs": [
    {
     "data": {
      "text/html": [
       "<div>\n",
       "<style scoped>\n",
       "    .dataframe tbody tr th:only-of-type {\n",
       "        vertical-align: middle;\n",
       "    }\n",
       "\n",
       "    .dataframe tbody tr th {\n",
       "        vertical-align: top;\n",
       "    }\n",
       "\n",
       "    .dataframe thead th {\n",
       "        text-align: right;\n",
       "    }\n",
       "</style>\n",
       "<table border=\"1\" class=\"dataframe\">\n",
       "  <thead>\n",
       "    <tr style=\"text-align: right;\">\n",
       "      <th></th>\n",
       "      <th>Дата</th>\n",
       "      <th>ВВП, в млрд. ₽</th>\n",
       "    </tr>\n",
       "  </thead>\n",
       "  <tbody>\n",
       "    <tr>\n",
       "      <th>0</th>\n",
       "      <td>1997-09-30</td>\n",
       "      <td>634.159200</td>\n",
       "    </tr>\n",
       "    <tr>\n",
       "      <th>1</th>\n",
       "      <td>1997-12-30</td>\n",
       "      <td>640.909200</td>\n",
       "    </tr>\n",
       "    <tr>\n",
       "      <th>2</th>\n",
       "      <td>1998-03-30</td>\n",
       "      <td>550.865500</td>\n",
       "    </tr>\n",
       "    <tr>\n",
       "      <th>3</th>\n",
       "      <td>1998-06-30</td>\n",
       "      <td>602.453000</td>\n",
       "    </tr>\n",
       "    <tr>\n",
       "      <th>4</th>\n",
       "      <td>1998-09-30</td>\n",
       "      <td>675.457100</td>\n",
       "    </tr>\n",
       "    <tr>\n",
       "      <th>...</th>\n",
       "      <td>...</td>\n",
       "      <td>...</td>\n",
       "    </tr>\n",
       "    <tr>\n",
       "      <th>101</th>\n",
       "      <td>2022-12-30</td>\n",
       "      <td>42532.309641</td>\n",
       "    </tr>\n",
       "    <tr>\n",
       "      <th>102</th>\n",
       "      <td>2023-03-30</td>\n",
       "      <td>36176.000693</td>\n",
       "    </tr>\n",
       "    <tr>\n",
       "      <th>103</th>\n",
       "      <td>2023-06-30</td>\n",
       "      <td>40070.181189</td>\n",
       "    </tr>\n",
       "    <tr>\n",
       "      <th>104</th>\n",
       "      <td>2023-09-30</td>\n",
       "      <td>45087.686145</td>\n",
       "    </tr>\n",
       "    <tr>\n",
       "      <th>105</th>\n",
       "      <td>2023-12-30</td>\n",
       "      <td>50814.443887</td>\n",
       "    </tr>\n",
       "  </tbody>\n",
       "</table>\n",
       "<p>106 rows × 2 columns</p>\n",
       "</div>"
      ],
      "text/plain": [
       "          Дата  ВВП, в млрд. ₽\n",
       "0   1997-09-30      634.159200\n",
       "1   1997-12-30      640.909200\n",
       "2   1998-03-30      550.865500\n",
       "3   1998-06-30      602.453000\n",
       "4   1998-09-30      675.457100\n",
       "..         ...             ...\n",
       "101 2022-12-30    42532.309641\n",
       "102 2023-03-30    36176.000693\n",
       "103 2023-06-30    40070.181189\n",
       "104 2023-09-30    45087.686145\n",
       "105 2023-12-30    50814.443887\n",
       "\n",
       "[106 rows x 2 columns]"
      ]
     },
     "execution_count": 45,
     "metadata": {},
     "output_type": "execute_result"
    }
   ],
   "source": [
    "df_gdp"
   ]
  },
  {
   "cell_type": "markdown",
   "metadata": {},
   "source": [
    "# ИПЦ"
   ]
  },
  {
   "cell_type": "code",
   "execution_count": 46,
   "metadata": {},
   "outputs": [],
   "source": [
    "df_ipc = pd.read_excel('C:/Users/seymu/Desktop/Проект АнДан/CPI.xlsx', sheet_name='01', skiprows=[0, 1, 2, 4], nrows=12, usecols=[i for i in range(7, 34)])"
   ]
  },
  {
   "cell_type": "markdown",
   "metadata": {},
   "source": [
    "# Запрос в GPT \n",
    "df = pd.DataFrame({'1997': [107, 108], '1998': [109, 110]})\n",
    "df\n",
    "df.index = ['Январь', 'Февраль']\n",
    "сделай то же самое для этого dataframe'а\n",
    "\n",
    "\n",
    "df = pd.DataFrame({'Январь': [107, 108], 'Февраль': [109, 110]})\n",
    "\n",
    "df.index = [1997, 1998]\n",
    "\n",
    "у меня есть такой DataFrame \n",
    "я хочу получить в конечном итоге следующую таблицу \n",
    "df_2 = pd.DataFrame({'Дата':['30.01.1997', '28.02.1997', '30.01.1998', '28.02.1998'], 'Значение': ['107',  '109', '108', '110']})\n",
    "как это реализовать внутри питона не вручную\n"
   ]
  },
  {
   "cell_type": "markdown",
   "metadata": {},
   "source": [
    "# Переписать под дататайм"
   ]
  },
  {
   "cell_type": "code",
   "execution_count": 47,
   "metadata": {},
   "outputs": [
    {
     "data": {
      "text/html": [
       "<div>\n",
       "<style scoped>\n",
       "    .dataframe tbody tr th:only-of-type {\n",
       "        vertical-align: middle;\n",
       "    }\n",
       "\n",
       "    .dataframe tbody tr th {\n",
       "        vertical-align: top;\n",
       "    }\n",
       "\n",
       "    .dataframe thead th {\n",
       "        text-align: right;\n",
       "    }\n",
       "</style>\n",
       "<table border=\"1\" class=\"dataframe\">\n",
       "  <thead>\n",
       "    <tr style=\"text-align: right;\">\n",
       "      <th></th>\n",
       "      <th>Дата</th>\n",
       "      <th>Инфляция, в %</th>\n",
       "    </tr>\n",
       "  </thead>\n",
       "  <tbody>\n",
       "    <tr>\n",
       "      <th>0</th>\n",
       "      <td>31.01.1997</td>\n",
       "      <td>102.34</td>\n",
       "    </tr>\n",
       "    <tr>\n",
       "      <th>1</th>\n",
       "      <td>28.02.1997</td>\n",
       "      <td>101.54</td>\n",
       "    </tr>\n",
       "    <tr>\n",
       "      <th>2</th>\n",
       "      <td>31.03.1997</td>\n",
       "      <td>101.43</td>\n",
       "    </tr>\n",
       "    <tr>\n",
       "      <th>3</th>\n",
       "      <td>30.04.1997</td>\n",
       "      <td>100.96</td>\n",
       "    </tr>\n",
       "    <tr>\n",
       "      <th>4</th>\n",
       "      <td>31.05.1997</td>\n",
       "      <td>100.94</td>\n",
       "    </tr>\n",
       "    <tr>\n",
       "      <th>...</th>\n",
       "      <td>...</td>\n",
       "      <td>...</td>\n",
       "    </tr>\n",
       "    <tr>\n",
       "      <th>319</th>\n",
       "      <td>31.08.2023</td>\n",
       "      <td>100.28</td>\n",
       "    </tr>\n",
       "    <tr>\n",
       "      <th>320</th>\n",
       "      <td>30.09.2023</td>\n",
       "      <td>100.87</td>\n",
       "    </tr>\n",
       "    <tr>\n",
       "      <th>321</th>\n",
       "      <td>31.10.2023</td>\n",
       "      <td>100.83</td>\n",
       "    </tr>\n",
       "    <tr>\n",
       "      <th>322</th>\n",
       "      <td>30.11.2023</td>\n",
       "      <td>101.11</td>\n",
       "    </tr>\n",
       "    <tr>\n",
       "      <th>323</th>\n",
       "      <td>31.12.2023</td>\n",
       "      <td>100.73</td>\n",
       "    </tr>\n",
       "  </tbody>\n",
       "</table>\n",
       "<p>324 rows × 2 columns</p>\n",
       "</div>"
      ],
      "text/plain": [
       "           Дата  Инфляция, в %\n",
       "0    31.01.1997         102.34\n",
       "1    28.02.1997         101.54\n",
       "2    31.03.1997         101.43\n",
       "3    30.04.1997         100.96\n",
       "4    31.05.1997         100.94\n",
       "..          ...            ...\n",
       "319  31.08.2023         100.28\n",
       "320  30.09.2023         100.87\n",
       "321  31.10.2023         100.83\n",
       "322  30.11.2023         101.11\n",
       "323  31.12.2023         100.73\n",
       "\n",
       "[324 rows x 2 columns]"
      ]
     },
     "execution_count": 47,
     "metadata": {},
     "output_type": "execute_result"
    }
   ],
   "source": [
    "months = ['Январь', 'Февраль', 'Март', 'Апрель', 'Май', 'Июнь', 'Июль', 'Август', 'Сентябрь', 'Октябрь', 'Ноябрь', 'Декабрь']\n",
    "df_ipc.index = months\n",
    "\n",
    "years = [str(year) for year in range(1997, 2024)]\n",
    "df_ipc.columns = years\n",
    "\n",
    "df_ipc_melted = df_ipc.reset_index().melt(id_vars=['index'], var_name='Год', value_name='Инфляция, в %')\n",
    "\n",
    "df_ipc_melted.rename(columns={'index': 'Месяц'}, inplace=True)\n",
    "\n",
    "days = {'Январь': '31', 'Февраль': '28', 'Март': '31', 'Апрель': '30', 'Май': '31',\n",
    "    'Июнь': '30', 'Июль': '31', 'Август': '31', 'Сентябрь': '30',\n",
    "    'Октябрь': '31', 'Ноябрь': '30', 'Декабрь': '31'}\n",
    "\n",
    "months_num = {'Январь': '01', 'Февраль': '02', 'Март': '03', 'Апрель': '04', 'Май': '05',\n",
    "    'Июнь': '06', 'Июль': '07', 'Август': '08', 'Сентябрь': '09',\n",
    "    'Октябрь': '10', 'Ноябрь': '11', 'Декабрь': '12'}\n",
    "\n",
    "df_ipc_melted['Дата'] = df_ipc_melted.apply(lambda row: f\"{days[row['Месяц']]}.{months_num[row['Месяц']]}.{row['Год']}\", axis=1)\n",
    "\n",
    "df_ipc = df_ipc_melted[['Дата', 'Инфляция, в %']]\n",
    "\n",
    "df_ipc"
   ]
  },
  {
   "cell_type": "code",
   "execution_count": 48,
   "metadata": {},
   "outputs": [],
   "source": [
    "df_ipc['Дата'] = pd.to_datetime(df_ipc['Дата'], format='%d.%m.%Y')"
   ]
  },
  {
   "cell_type": "markdown",
   "metadata": {},
   "source": [
    "# Платежный баланс"
   ]
  },
  {
   "cell_type": "code",
   "execution_count": 49,
   "metadata": {},
   "outputs": [],
   "source": [
    "col = [0] + list(range(15, 121))\n",
    "df_bp = pd.read_excel('C:/Users/seymu/Desktop/Проект АнДан/BP.xlsx', sheet_name='Кварталы', skiprows=4, usecols=col)"
   ]
  },
  {
   "cell_type": "code",
   "execution_count": 50,
   "metadata": {},
   "outputs": [],
   "source": [
    "df_bp = df_bp[(df_bp['Unnamed: 0'] == 'Сальдо счета текущих операций и счета операций с капиталом') | (df_bp['Unnamed: 0'] == 'Сальдо финансового счета')]"
   ]
  },
  {
   "cell_type": "code",
   "execution_count": 51,
   "metadata": {},
   "outputs": [],
   "source": [
    "df_bp = df_bp.T"
   ]
  },
  {
   "cell_type": "code",
   "execution_count": 52,
   "metadata": {},
   "outputs": [],
   "source": [
    "df_bp = df_bp[1:]\n",
    "df_bp.columns = ['Сальдо счета текущих операций и счета операций с капиталом', 'Сальдо финансового счета']"
   ]
  },
  {
   "cell_type": "code",
   "execution_count": 53,
   "metadata": {},
   "outputs": [],
   "source": [
    "df_bp.index = range(df_bp.shape[0])"
   ]
  },
  {
   "cell_type": "code",
   "execution_count": 54,
   "metadata": {},
   "outputs": [],
   "source": [
    "date_range = calendar_kvartal(datetime(1997, 9, 30), datetime(2023, 12, 31))"
   ]
  },
  {
   "cell_type": "code",
   "execution_count": 55,
   "metadata": {},
   "outputs": [
    {
     "data": {
      "text/html": [
       "<div>\n",
       "<style scoped>\n",
       "    .dataframe tbody tr th:only-of-type {\n",
       "        vertical-align: middle;\n",
       "    }\n",
       "\n",
       "    .dataframe tbody tr th {\n",
       "        vertical-align: top;\n",
       "    }\n",
       "\n",
       "    .dataframe thead th {\n",
       "        text-align: right;\n",
       "    }\n",
       "</style>\n",
       "<table border=\"1\" class=\"dataframe\">\n",
       "  <thead>\n",
       "    <tr style=\"text-align: right;\">\n",
       "      <th></th>\n",
       "      <th>Дата</th>\n",
       "      <th>Сальдо счета текущих операций и счета операций с капиталом</th>\n",
       "      <th>Сальдо финансового счета</th>\n",
       "    </tr>\n",
       "  </thead>\n",
       "  <tbody>\n",
       "    <tr>\n",
       "      <th>0</th>\n",
       "      <td>1997-09-30</td>\n",
       "      <td>-1702.88</td>\n",
       "      <td>-3532.75</td>\n",
       "    </tr>\n",
       "    <tr>\n",
       "      <th>1</th>\n",
       "      <td>1997-12-30</td>\n",
       "      <td>-901.19</td>\n",
       "      <td>-4918.06</td>\n",
       "    </tr>\n",
       "    <tr>\n",
       "      <th>2</th>\n",
       "      <td>1998-03-30</td>\n",
       "      <td>-2962.14</td>\n",
       "      <td>-5440.26</td>\n",
       "    </tr>\n",
       "    <tr>\n",
       "      <th>3</th>\n",
       "      <td>1998-06-30</td>\n",
       "      <td>-3768.18</td>\n",
       "      <td>-6607.13</td>\n",
       "    </tr>\n",
       "    <tr>\n",
       "      <th>4</th>\n",
       "      <td>1998-09-30</td>\n",
       "      <td>787.81</td>\n",
       "      <td>-4091.7</td>\n",
       "    </tr>\n",
       "  </tbody>\n",
       "</table>\n",
       "</div>"
      ],
      "text/plain": [
       "         Дата Сальдо счета текущих операций и счета операций с капиталом  \\\n",
       "0  1997-09-30                                           -1702.88           \n",
       "1  1997-12-30                                            -901.19           \n",
       "2  1998-03-30                                           -2962.14           \n",
       "3  1998-06-30                                           -3768.18           \n",
       "4  1998-09-30                                             787.81           \n",
       "\n",
       "  Сальдо финансового счета  \n",
       "0                 -3532.75  \n",
       "1                 -4918.06  \n",
       "2                 -5440.26  \n",
       "3                 -6607.13  \n",
       "4                  -4091.7  "
      ]
     },
     "execution_count": 55,
     "metadata": {},
     "output_type": "execute_result"
    }
   ],
   "source": [
    "df_bp['Дата'] = date_range\n",
    "df_bp = df_bp[['Дата','Сальдо счета текущих операций и счета операций с капиталом', 'Сальдо финансового счета']]\n",
    "df_bp.head()"
   ]
  },
  {
   "cell_type": "code",
   "execution_count": 56,
   "metadata": {},
   "outputs": [],
   "source": [
    "df_bp['Дата'] = pd.to_datetime(df_bp['Дата'])\n",
    "df_bp['Сальдо счета текущих операций и счета операций с капиталом'] = df_bp['Сальдо счета текущих операций и счета операций с капиталом'].astype(float)\n",
    "df_bp['Сальдо финансового счета'] = df_bp['Сальдо финансового счета'].astype(float)"
   ]
  },
  {
   "cell_type": "markdown",
   "metadata": {},
   "source": [
    "# Объединение в одну таблицу и дальнейшая работа "
   ]
  },
  {
   "cell_type": "markdown",
   "metadata": {},
   "source": [
    "создаю такой массив потмоу что 31 декабря биржа не работает и мы теряем значения макро показателей на 4 квартал в каждом году"
   ]
  },
  {
   "cell_type": "code",
   "execution_count": 68,
   "metadata": {},
   "outputs": [],
   "source": [
    "date_range = calendar_po_dnyam(datetime(1997, 9, 22),datetime(2024, 1, 1))"
   ]
  },
  {
   "cell_type": "code",
   "execution_count": 69,
   "metadata": {},
   "outputs": [],
   "source": [
    "df_merged = pd.DataFrame(date_range, columns=['Дата'])\n",
    "df_merged['Дата'] = pd.to_datetime(df_merged['Дата'])\n",
    "list_df = [df_bp, df_brent, df_gdp, df_ipc, df_key_rate, df_valut, df_imoex]"
   ]
  },
  {
   "cell_type": "code",
   "execution_count": 70,
   "metadata": {},
   "outputs": [
    {
     "name": "stdout",
     "output_type": "stream",
     "text": [
      "<class 'pandas.core.frame.DataFrame'>\n",
      "RangeIndex: 9598 entries, 0 to 9597\n",
      "Data columns (total 1 columns):\n",
      " #   Column  Non-Null Count  Dtype         \n",
      "---  ------  --------------  -----         \n",
      " 0   Дата    9598 non-null   datetime64[ns]\n",
      "dtypes: datetime64[ns](1)\n",
      "memory usage: 75.1 KB\n"
     ]
    }
   ],
   "source": [
    "df_merged.info()"
   ]
  },
  {
   "cell_type": "code",
   "execution_count": 71,
   "metadata": {},
   "outputs": [],
   "source": [
    "for i in list_df:\n",
    "    df_merged = pd.merge(df_merged, i, on='Дата', how='left')"
   ]
  },
  {
   "cell_type": "code",
   "execution_count": 72,
   "metadata": {},
   "outputs": [
    {
     "data": {
      "text/html": [
       "<div>\n",
       "<style scoped>\n",
       "    .dataframe tbody tr th:only-of-type {\n",
       "        vertical-align: middle;\n",
       "    }\n",
       "\n",
       "    .dataframe tbody tr th {\n",
       "        vertical-align: top;\n",
       "    }\n",
       "\n",
       "    .dataframe thead th {\n",
       "        text-align: right;\n",
       "    }\n",
       "</style>\n",
       "<table border=\"1\" class=\"dataframe\">\n",
       "  <thead>\n",
       "    <tr style=\"text-align: right;\">\n",
       "      <th></th>\n",
       "      <th>Дата</th>\n",
       "      <th>Сальдо счета текущих операций и счета операций с капиталом</th>\n",
       "      <th>Сальдо финансового счета</th>\n",
       "      <th>Цена, в $/барр</th>\n",
       "      <th>ВВП, в млрд. ₽</th>\n",
       "      <th>Инфляция, в %</th>\n",
       "      <th>Ключевая ставка, в %</th>\n",
       "      <th>Курс доллара к рублю</th>\n",
       "      <th>Цена закрытия</th>\n",
       "    </tr>\n",
       "  </thead>\n",
       "  <tbody>\n",
       "    <tr>\n",
       "      <th>0</th>\n",
       "      <td>1997-09-22</td>\n",
       "      <td>NaN</td>\n",
       "      <td>NaN</td>\n",
       "      <td>18.63</td>\n",
       "      <td>NaN</td>\n",
       "      <td>NaN</td>\n",
       "      <td>NaN</td>\n",
       "      <td>5853.5</td>\n",
       "      <td>100.00</td>\n",
       "    </tr>\n",
       "    <tr>\n",
       "      <th>1</th>\n",
       "      <td>1997-09-23</td>\n",
       "      <td>NaN</td>\n",
       "      <td>NaN</td>\n",
       "      <td>18.64</td>\n",
       "      <td>NaN</td>\n",
       "      <td>NaN</td>\n",
       "      <td>NaN</td>\n",
       "      <td>5855.0</td>\n",
       "      <td>100.67</td>\n",
       "    </tr>\n",
       "    <tr>\n",
       "      <th>2</th>\n",
       "      <td>1997-09-24</td>\n",
       "      <td>NaN</td>\n",
       "      <td>NaN</td>\n",
       "      <td>18.80</td>\n",
       "      <td>NaN</td>\n",
       "      <td>NaN</td>\n",
       "      <td>NaN</td>\n",
       "      <td>5856.5</td>\n",
       "      <td>99.94</td>\n",
       "    </tr>\n",
       "    <tr>\n",
       "      <th>3</th>\n",
       "      <td>1997-09-25</td>\n",
       "      <td>NaN</td>\n",
       "      <td>NaN</td>\n",
       "      <td>19.14</td>\n",
       "      <td>NaN</td>\n",
       "      <td>NaN</td>\n",
       "      <td>NaN</td>\n",
       "      <td>5858.5</td>\n",
       "      <td>99.46</td>\n",
       "    </tr>\n",
       "    <tr>\n",
       "      <th>4</th>\n",
       "      <td>1997-09-26</td>\n",
       "      <td>NaN</td>\n",
       "      <td>NaN</td>\n",
       "      <td>19.56</td>\n",
       "      <td>NaN</td>\n",
       "      <td>NaN</td>\n",
       "      <td>NaN</td>\n",
       "      <td>5860.0</td>\n",
       "      <td>98.87</td>\n",
       "    </tr>\n",
       "  </tbody>\n",
       "</table>\n",
       "</div>"
      ],
      "text/plain": [
       "        Дата  Сальдо счета текущих операций и счета операций с капиталом  \\\n",
       "0 1997-09-22                                                NaN            \n",
       "1 1997-09-23                                                NaN            \n",
       "2 1997-09-24                                                NaN            \n",
       "3 1997-09-25                                                NaN            \n",
       "4 1997-09-26                                                NaN            \n",
       "\n",
       "   Сальдо финансового счета  Цена, в $/барр  ВВП, в млрд. ₽  Инфляция, в %  \\\n",
       "0                       NaN           18.63             NaN            NaN   \n",
       "1                       NaN           18.64             NaN            NaN   \n",
       "2                       NaN           18.80             NaN            NaN   \n",
       "3                       NaN           19.14             NaN            NaN   \n",
       "4                       NaN           19.56             NaN            NaN   \n",
       "\n",
       "   Ключевая ставка, в %  Курс доллара к рублю  Цена закрытия  \n",
       "0                   NaN                5853.5         100.00  \n",
       "1                   NaN                5855.0         100.67  \n",
       "2                   NaN                5856.5          99.94  \n",
       "3                   NaN                5858.5          99.46  \n",
       "4                   NaN                5860.0          98.87  "
      ]
     },
     "execution_count": 72,
     "metadata": {},
     "output_type": "execute_result"
    }
   ],
   "source": [
    "df_merged.head()"
   ]
  },
  {
   "cell_type": "markdown",
   "metadata": {},
   "source": [
    "Мы вытягиваем значения за весь периолд а он в конце квартала \n",
    "потому используем bfill, также изьегаме того что еасли выкинем все nan'ы imoex то потеряем значения"
   ]
  },
  {
   "cell_type": "code",
   "execution_count": 74,
   "metadata": {},
   "outputs": [],
   "source": [
    "df_merged[['Сальдо счета текущих операций и счета операций с капиталом', 'Сальдо финансового счета', 'ВВП, в млрд. ₽', 'Инфляция, в %', 'Ключевая ставка, в %']] = df_merged[['Сальдо счета текущих операций и счета операций с капиталом', 'Сальдо финансового счета', 'ВВП, в млрд. ₽', 'Инфляция, в %', 'Ключевая ставка, в %']].fillna(method='bfill')"
   ]
  },
  {
   "cell_type": "code",
   "execution_count": 77,
   "metadata": {},
   "outputs": [],
   "source": [
    "df_merged[['Цена, в $/барр', 'Курс доллара к рублю']] = df_merged[['Цена, в $/барр', 'Курс доллара к рублю']].fillna(method='bfill')"
   ]
  },
  {
   "cell_type": "markdown",
   "metadata": {},
   "source": [
    "Выбрасываем все на данное время пустые значения и оставляем только те даты на которые есть наблюдения по IMOEX"
   ]
  },
  {
   "cell_type": "code",
   "execution_count": 81,
   "metadata": {},
   "outputs": [],
   "source": [
    "df_merged.dropna(inplace=True)"
   ]
  },
  {
   "cell_type": "code",
   "execution_count": 85,
   "metadata": {},
   "outputs": [
    {
     "data": {
      "text/html": [
       "<div>\n",
       "<style scoped>\n",
       "    .dataframe tbody tr th:only-of-type {\n",
       "        vertical-align: middle;\n",
       "    }\n",
       "\n",
       "    .dataframe tbody tr th {\n",
       "        vertical-align: top;\n",
       "    }\n",
       "\n",
       "    .dataframe thead th {\n",
       "        text-align: right;\n",
       "    }\n",
       "</style>\n",
       "<table border=\"1\" class=\"dataframe\">\n",
       "  <thead>\n",
       "    <tr style=\"text-align: right;\">\n",
       "      <th></th>\n",
       "      <th>Дата</th>\n",
       "      <th>Сальдо счета текущих операций и счета операций с капиталом</th>\n",
       "      <th>Сальдо финансового счета</th>\n",
       "      <th>Цена, в $/барр</th>\n",
       "      <th>ВВП, в млрд. ₽</th>\n",
       "      <th>Инфляция, в %</th>\n",
       "      <th>Ключевая ставка, в %</th>\n",
       "      <th>Курс доллара к рублю</th>\n",
       "      <th>Цена закрытия</th>\n",
       "    </tr>\n",
       "  </thead>\n",
       "  <tbody>\n",
       "    <tr>\n",
       "      <th>0</th>\n",
       "      <td>1997-09-22</td>\n",
       "      <td>-1702.88</td>\n",
       "      <td>-3532.75</td>\n",
       "      <td>18.63</td>\n",
       "      <td>634.159200</td>\n",
       "      <td>99.70</td>\n",
       "      <td>21.0</td>\n",
       "      <td>5853.5000</td>\n",
       "      <td>100.00</td>\n",
       "    </tr>\n",
       "    <tr>\n",
       "      <th>1</th>\n",
       "      <td>1997-09-23</td>\n",
       "      <td>-1702.88</td>\n",
       "      <td>-3532.75</td>\n",
       "      <td>18.64</td>\n",
       "      <td>634.159200</td>\n",
       "      <td>99.70</td>\n",
       "      <td>21.0</td>\n",
       "      <td>5855.0000</td>\n",
       "      <td>100.67</td>\n",
       "    </tr>\n",
       "    <tr>\n",
       "      <th>2</th>\n",
       "      <td>1997-09-24</td>\n",
       "      <td>-1702.88</td>\n",
       "      <td>-3532.75</td>\n",
       "      <td>18.80</td>\n",
       "      <td>634.159200</td>\n",
       "      <td>99.70</td>\n",
       "      <td>21.0</td>\n",
       "      <td>5856.5000</td>\n",
       "      <td>99.94</td>\n",
       "    </tr>\n",
       "    <tr>\n",
       "      <th>3</th>\n",
       "      <td>1997-09-25</td>\n",
       "      <td>-1702.88</td>\n",
       "      <td>-3532.75</td>\n",
       "      <td>19.14</td>\n",
       "      <td>634.159200</td>\n",
       "      <td>99.70</td>\n",
       "      <td>21.0</td>\n",
       "      <td>5858.5000</td>\n",
       "      <td>99.46</td>\n",
       "    </tr>\n",
       "    <tr>\n",
       "      <th>4</th>\n",
       "      <td>1997-09-26</td>\n",
       "      <td>-1702.88</td>\n",
       "      <td>-3532.75</td>\n",
       "      <td>19.56</td>\n",
       "      <td>634.159200</td>\n",
       "      <td>99.70</td>\n",
       "      <td>21.0</td>\n",
       "      <td>5860.0000</td>\n",
       "      <td>98.87</td>\n",
       "    </tr>\n",
       "    <tr>\n",
       "      <th>...</th>\n",
       "      <td>...</td>\n",
       "      <td>...</td>\n",
       "      <td>...</td>\n",
       "      <td>...</td>\n",
       "      <td>...</td>\n",
       "      <td>...</td>\n",
       "      <td>...</td>\n",
       "      <td>...</td>\n",
       "      <td>...</td>\n",
       "    </tr>\n",
       "    <tr>\n",
       "      <th>9590</th>\n",
       "      <td>2023-12-25</td>\n",
       "      <td>10239.40</td>\n",
       "      <td>12961.50</td>\n",
       "      <td>81.07</td>\n",
       "      <td>50814.443887</td>\n",
       "      <td>100.73</td>\n",
       "      <td>16.0</td>\n",
       "      <td>91.9389</td>\n",
       "      <td>3099.02</td>\n",
       "    </tr>\n",
       "    <tr>\n",
       "      <th>9591</th>\n",
       "      <td>2023-12-26</td>\n",
       "      <td>10239.40</td>\n",
       "      <td>12961.50</td>\n",
       "      <td>81.07</td>\n",
       "      <td>50814.443887</td>\n",
       "      <td>100.73</td>\n",
       "      <td>16.0</td>\n",
       "      <td>91.9690</td>\n",
       "      <td>3094.72</td>\n",
       "    </tr>\n",
       "    <tr>\n",
       "      <th>9592</th>\n",
       "      <td>2023-12-27</td>\n",
       "      <td>10239.40</td>\n",
       "      <td>12961.50</td>\n",
       "      <td>79.54</td>\n",
       "      <td>50814.443887</td>\n",
       "      <td>100.73</td>\n",
       "      <td>16.0</td>\n",
       "      <td>91.7069</td>\n",
       "      <td>3097.49</td>\n",
       "    </tr>\n",
       "    <tr>\n",
       "      <th>9593</th>\n",
       "      <td>2023-12-28</td>\n",
       "      <td>10239.40</td>\n",
       "      <td>12961.50</td>\n",
       "      <td>77.15</td>\n",
       "      <td>50814.443887</td>\n",
       "      <td>100.73</td>\n",
       "      <td>16.0</td>\n",
       "      <td>91.7051</td>\n",
       "      <td>3101.99</td>\n",
       "    </tr>\n",
       "    <tr>\n",
       "      <th>9594</th>\n",
       "      <td>2023-12-29</td>\n",
       "      <td>10239.40</td>\n",
       "      <td>12961.50</td>\n",
       "      <td>77.04</td>\n",
       "      <td>50814.443887</td>\n",
       "      <td>100.73</td>\n",
       "      <td>16.0</td>\n",
       "      <td>90.3041</td>\n",
       "      <td>3099.11</td>\n",
       "    </tr>\n",
       "  </tbody>\n",
       "</table>\n",
       "<p>6566 rows × 9 columns</p>\n",
       "</div>"
      ],
      "text/plain": [
       "           Дата  Сальдо счета текущих операций и счета операций с капиталом  \\\n",
       "0    1997-09-22                                           -1702.88            \n",
       "1    1997-09-23                                           -1702.88            \n",
       "2    1997-09-24                                           -1702.88            \n",
       "3    1997-09-25                                           -1702.88            \n",
       "4    1997-09-26                                           -1702.88            \n",
       "...         ...                                                ...            \n",
       "9590 2023-12-25                                           10239.40            \n",
       "9591 2023-12-26                                           10239.40            \n",
       "9592 2023-12-27                                           10239.40            \n",
       "9593 2023-12-28                                           10239.40            \n",
       "9594 2023-12-29                                           10239.40            \n",
       "\n",
       "      Сальдо финансового счета  Цена, в $/барр  ВВП, в млрд. ₽  Инфляция, в %  \\\n",
       "0                     -3532.75           18.63      634.159200          99.70   \n",
       "1                     -3532.75           18.64      634.159200          99.70   \n",
       "2                     -3532.75           18.80      634.159200          99.70   \n",
       "3                     -3532.75           19.14      634.159200          99.70   \n",
       "4                     -3532.75           19.56      634.159200          99.70   \n",
       "...                        ...             ...             ...            ...   \n",
       "9590                  12961.50           81.07    50814.443887         100.73   \n",
       "9591                  12961.50           81.07    50814.443887         100.73   \n",
       "9592                  12961.50           79.54    50814.443887         100.73   \n",
       "9593                  12961.50           77.15    50814.443887         100.73   \n",
       "9594                  12961.50           77.04    50814.443887         100.73   \n",
       "\n",
       "      Ключевая ставка, в %  Курс доллара к рублю  Цена закрытия  \n",
       "0                     21.0             5853.5000         100.00  \n",
       "1                     21.0             5855.0000         100.67  \n",
       "2                     21.0             5856.5000          99.94  \n",
       "3                     21.0             5858.5000          99.46  \n",
       "4                     21.0             5860.0000          98.87  \n",
       "...                    ...                   ...            ...  \n",
       "9590                  16.0               91.9389        3099.02  \n",
       "9591                  16.0               91.9690        3094.72  \n",
       "9592                  16.0               91.7069        3097.49  \n",
       "9593                  16.0               91.7051        3101.99  \n",
       "9594                  16.0               90.3041        3099.11  \n",
       "\n",
       "[6566 rows x 9 columns]"
      ]
     },
     "execution_count": 85,
     "metadata": {},
     "output_type": "execute_result"
    }
   ],
   "source": [
    "df_merged"
   ]
  },
  {
   "cell_type": "code",
   "execution_count": 95,
   "metadata": {},
   "outputs": [
    {
     "data": {
      "text/html": [
       "<div>\n",
       "<style scoped>\n",
       "    .dataframe tbody tr th:only-of-type {\n",
       "        vertical-align: middle;\n",
       "    }\n",
       "\n",
       "    .dataframe tbody tr th {\n",
       "        vertical-align: top;\n",
       "    }\n",
       "\n",
       "    .dataframe thead th {\n",
       "        text-align: right;\n",
       "    }\n",
       "</style>\n",
       "<table border=\"1\" class=\"dataframe\">\n",
       "  <thead>\n",
       "    <tr style=\"text-align: right;\">\n",
       "      <th></th>\n",
       "      <th>Дата</th>\n",
       "      <th>Сальдо счета текущих операций и счета операций с капиталом</th>\n",
       "      <th>Сальдо финансового счета</th>\n",
       "      <th>Цена, в $/барр</th>\n",
       "      <th>ВВП, в млрд. ₽</th>\n",
       "      <th>Инфляция, в %</th>\n",
       "      <th>Ключевая ставка, в %</th>\n",
       "      <th>Курс доллара к рублю</th>\n",
       "      <th>Цена закрытия</th>\n",
       "    </tr>\n",
       "  </thead>\n",
       "  <tbody>\n",
       "    <tr>\n",
       "      <th>374</th>\n",
       "      <td>1998-10-01</td>\n",
       "      <td>6093.89</td>\n",
       "      <td>6367.93</td>\n",
       "      <td>14.11</td>\n",
       "      <td>800.8474</td>\n",
       "      <td>104.54</td>\n",
       "      <td>55.0</td>\n",
       "      <td>15.9056</td>\n",
       "      <td>23.39</td>\n",
       "    </tr>\n",
       "  </tbody>\n",
       "</table>\n",
       "</div>"
      ],
      "text/plain": [
       "          Дата  Сальдо счета текущих операций и счета операций с капиталом  \\\n",
       "374 1998-10-01                                            6093.89            \n",
       "\n",
       "     Сальдо финансового счета  Цена, в $/барр  ВВП, в млрд. ₽  Инфляция, в %  \\\n",
       "374                   6367.93           14.11        800.8474         104.54   \n",
       "\n",
       "     Ключевая ставка, в %  Курс доллара к рублю  Цена закрытия  \n",
       "374                  55.0               15.9056          23.39  "
      ]
     },
     "execution_count": 95,
     "metadata": {},
     "output_type": "execute_result"
    }
   ],
   "source": [
    "df_merged[df_merged['Инфляция, в %'].pct_change() == df_merged['Инфляция, в %'].pct_change().min()]"
   ]
  },
  {
   "cell_type": "code",
   "execution_count": null,
   "metadata": {},
   "outputs": [],
   "source": []
  }
 ],
 "metadata": {
  "kernelspec": {
   "display_name": "Python 3",
   "language": "python",
   "name": "python3"
  },
  "language_info": {
   "codemirror_mode": {
    "name": "ipython",
    "version": 3
   },
   "file_extension": ".py",
   "mimetype": "text/x-python",
   "name": "python",
   "nbconvert_exporter": "python",
   "pygments_lexer": "ipython3",
   "version": "3.11.3"
  }
 },
 "nbformat": 4,
 "nbformat_minor": 2
}
