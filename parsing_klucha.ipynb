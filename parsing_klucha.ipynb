{
 "cells": [
  {
   "cell_type": "code",
   "execution_count": null,
   "metadata": {},
   "outputs": [],
   "source": [
    "from selenium import webdriver\n",
    "from bs4 import BeautifulSoup\n",
    "import requests \n",
    "import numpy as np\n",
    "import pandas as pd\n",
    "import scipy.stats as st\n",
    "import matplotlib.pyplot as plt\n",
    "import seaborn as sns\n",
    "\n",
    "import plotly.express as px\n",
    "import cufflinks as cf\n",
    "import plotly.graph_objects as go \n",
    "import plotly as py\n",
    "%matplotlib inline\n",
    "\n",
    "from plotly.offline import download_plotlyjs, init_notebook_mode, plot, iplot\n",
    "init_notebook_mode(connected=True)\n",
    "cf.go_offline()\n",
    "url = 'https://base.garant.ru/10180094/'\n",
    "response = requests.get(url)\n",
    "response\n",
    "tree = BeautifulSoup(response.content, 'html.parser')\n",
    "kluch = tree.find_all('tr')\n",
    "kluch[0].get_text()\n",
    "l = []\n",
    "for i in kluch:\n",
    "    i = i.get_text().strip()\n",
    "    i = i.split('\\n\\n\\n')\n",
    "    l.append([i[0].split(' - ')[0], float(i[1].replace(',', '.'))])\n",
    "print(l)    \n",
    "df_kluch = pd.DataFrame(l, columns=['Дата', 'Ключевая ставка, %'])\n",
    "df_kluch.head()\n",
    "def v_datu(value):\n",
    "    month_map = {'января': '.01.', 'февраля': '.02.', 'марта': '.03.', 'апреля': '.04.', 'мая': '.05.', 'июня': '.06.',\n",
    "                 'июля': '.07.', 'августа': '.08.', 'сентября': '.09.', 'октября': '.10.', 'ноября': '.11.', 'декабря': '.12.'}\n",
    "    value = value[:-3].split()\n",
    "    date = value[0] + month_map[value[1]] + value[2]\n",
    "    return date\n",
    "df_kluch['Дата'] = df_kluch['Дата'].map(v_datu) \n",
    "df_kluch['Дата'] = pd.to_datetime(df_kluch['Дата'], format='%d.%m.%Y')\n",
    "df_kluch.sort_values(by='Дата')\n",
    "df_kluch"
   ]
  }
 ],
 "metadata": {
  "language_info": {
   "name": "python"
  }
 },
 "nbformat": 4,
 "nbformat_minor": 2
}
